{
 "cells": [
  {
   "cell_type": "markdown",
   "metadata": {},
   "source": [
    "# Experiments on synthetic data"
   ]
  },
  {
   "cell_type": "code",
   "execution_count": null,
   "metadata": {
    "collapsed": true
   },
   "outputs": [],
   "source": [
    "import numpy as np\n",
    "import networkx as nx"
   ]
  },
  {
   "cell_type": "code",
   "execution_count": null,
   "metadata": {
    "collapsed": true
   },
   "outputs": [],
   "source": [
    "from paris import paris\n",
    "from louvain import louvain\n",
    "from hierarchy import top_clusterings\n",
    "from synthetic_data import hsbm\n",
    "from plot_tools import plot_results, plot_resolution, plot_dendrogram, plot_clusterings\n",
    "from experiments import experiment_nb, experiment_deg, experiment_het"
   ]
  },
  {
   "cell_type": "markdown",
   "metadata": {},
   "source": [
    "## Stochastic block model"
   ]
  },
  {
   "cell_type": "code",
   "execution_count": null,
   "metadata": {
    "collapsed": true
   },
   "outputs": [],
   "source": [
    "# For quick test\n",
    "nb_samples = 5"
   ]
  },
  {
   "cell_type": "markdown",
   "metadata": {},
   "source": [
    "### 1. Sensitivity to the number of blocks"
   ]
  },
  {
   "cell_type": "code",
   "execution_count": null,
   "metadata": {},
   "outputs": [],
   "source": [
    "xlabel = \"Number of blocks\"\n",
    "range_ = range(10,101,15)\n",
    "results_nb = experiment_nb(nb_samples, range_)"
   ]
  },
  {
   "cell_type": "code",
   "execution_count": null,
   "metadata": {
    "collapsed": true
   },
   "outputs": [],
   "source": [
    "plot_results(range_, range_, results_nb, xlabel)"
   ]
  },
  {
   "cell_type": "markdown",
   "metadata": {},
   "source": [
    "### 2. Sensitivity to the external degree"
   ]
  },
  {
   "cell_type": "code",
   "execution_count": null,
   "metadata": {
    "collapsed": true
   },
   "outputs": [],
   "source": [
    "xlabel = \"Mean external degree\"\n",
    "range_ = range(1,6)\n",
    "results_deg = experiment_deg(nb_samples, range_)"
   ]
  },
  {
   "cell_type": "code",
   "execution_count": null,
   "metadata": {
    "collapsed": true
   },
   "outputs": [],
   "source": [
    "plot_results(range_, len(range_) * [40], results_deg, xlabel)"
   ]
  },
  {
   "cell_type": "markdown",
   "metadata": {},
   "source": [
    "### 3. Sensitivity to block heterogeneity"
   ]
  },
  {
   "cell_type": "code",
   "execution_count": null,
   "metadata": {},
   "outputs": [],
   "source": [
    "xlabel = \"Number of blocks\"\n",
    "range_ = range(5,35,7)\n",
    "block_size = [5,10,20]\n",
    "results_het = experiment_het(nb_samples, range_, block_size)"
   ]
  },
  {
   "cell_type": "code",
   "execution_count": null,
   "metadata": {},
   "outputs": [],
   "source": [
    "nb_blocks_ = [len(block_size) * nb for nb in range_]\n",
    "plot_results(nb_blocks_, nb_blocks_, results_het, xlabel)"
   ]
  },
  {
   "cell_type": "markdown",
   "metadata": {
    "collapsed": true
   },
   "source": [
    "## Hierarchical stochastic block model"
   ]
  },
  {
   "cell_type": "code",
   "execution_count": null,
   "metadata": {
    "collapsed": true
   },
   "outputs": [],
   "source": [
    "numbers = [20,4,4]\n",
    "parameters = [1,.1,.1]\n",
    "hsbm_model = hsbm(numbers, parameters)\n",
    "G = hsbm_model.create_graph()\n",
    "while not nx.is_connected(G):\n",
    "    G = hsbm_model.create_graph()\n",
    "pos = hsbm_model.pos()"
   ]
  },
  {
   "cell_type": "markdown",
   "metadata": {},
   "source": [
    "### 1. Resolutions of Paris and Louvain"
   ]
  },
  {
   "cell_type": "code",
   "execution_count": null,
   "metadata": {
    "collapsed": true
   },
   "outputs": [],
   "source": [
    "# Paris\n",
    "D = paris(G)\n",
    "k = 40 # Last k merges\n",
    "resolutions_paris = 1 / D[-k:,2]\n",
    "\n",
    "# Louvain\n",
    "resolutions_louvain = np.logspace(np.log10(resolutions_paris[-1]), np.log10(resolutions_paris[0]), num = 100)\n",
    "nb_clusters_louvain = []\n",
    "key_resolutions_louvain = []\n",
    "nb_old = 0\n",
    "for r in resolutions_louvain:\n",
    "    cluster = louvain(G, resolution = r)\n",
    "    nb = len(cluster)\n",
    "    nb_clusters_louvain.append(nb)\n",
    "    if nb > nb_old:\n",
    "        nb_old = nb\n",
    "        key_resolutions_louvain.append(r)\n",
    "    \n",
    "plot_resolution(resolutions_paris, resolutions_louvain, nb_clusters_louvain, key_resolutions_louvain)"
   ]
  },
  {
   "cell_type": "markdown",
   "metadata": {},
   "source": [
    "### 2. Top clusterings of Paris"
   ]
  },
  {
   "cell_type": "code",
   "execution_count": null,
   "metadata": {
    "collapsed": true
   },
   "outputs": [],
   "source": [
    "plot_dendrogram(D)"
   ]
  },
  {
   "cell_type": "code",
   "execution_count": null,
   "metadata": {
    "collapsed": true
   },
   "outputs": [],
   "source": [
    "nodes = list(G.nodes())\n",
    "C_list = top_clusterings(D, nodes, 2)\n",
    "plot_clusterings(G, C_list, pos, width = 10, height = 10)"
   ]
  }
 ],
 "metadata": {
  "hide_input": false,
  "kernelspec": {
   "display_name": "Python 3",
   "language": "python",
   "name": "python3"
  },
  "language_info": {
   "codemirror_mode": {
    "name": "ipython",
    "version": 3
   },
   "file_extension": ".py",
   "mimetype": "text/x-python",
   "name": "python",
   "nbconvert_exporter": "python",
   "pygments_lexer": "ipython3",
   "version": "3.6.1"
  }
 },
 "nbformat": 4,
 "nbformat_minor": 2
}
