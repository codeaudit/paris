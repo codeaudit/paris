{
 "cells": [
  {
   "cell_type": "markdown",
   "metadata": {},
   "source": [
    "# Simple example"
   ]
  },
  {
   "cell_type": "code",
   "execution_count": 1,
   "metadata": {
    "collapsed": true
   },
   "outputs": [],
   "source": [
    "import networkx as nx\n",
    "from paris.experiments.synthetic_data import sbm\n",
    "from paris.experiments.plot_tools import plot_dendrogram\n",
    "from paris.algorithms.paris import paris\n",
    "from paris.algorithms.hierarchy import top_clustering, top_clusterings"
   ]
  },
  {
   "cell_type": "code",
   "execution_count": 21,
   "metadata": {
    "collapsed": true
   },
   "outputs": [],
   "source": [
    "# Stochastic block model with 4 blocks of 10 nodes\n",
    "# internal / external average degree (inside / outside blocks) = 6 / 1\n",
    "model = sbm(4 * [10], 6, 1)  "
   ]
  },
  {
   "cell_type": "code",
   "execution_count": 22,
   "metadata": {},
   "outputs": [
    {
     "name": "stdout",
     "output_type": "stream",
     "text": [
      "Name: SBM\n",
      "Type: Graph\n",
      "Number of nodes: 40\n",
      "Number of edges: 137\n",
      "Average degree:   6.8500\n"
     ]
    }
   ],
   "source": [
    "# Generation of a random instance of the model\n",
    "G = model.generate_graph()\n",
    "print(nx.info(G))"
   ]
  },
  {
   "cell_type": "code",
   "execution_count": 26,
   "metadata": {},
   "outputs": [],
   "source": [
    "# Hierarchical clustering (as a dendrogram)\n",
    "D = paris(G)\n",
    "plot_dendrogram(D)"
   ]
  },
  {
   "cell_type": "code",
   "execution_count": 24,
   "metadata": {},
   "outputs": [
    {
     "name": "stdout",
     "output_type": "stream",
     "text": [
      "[10, 10, 9, 11]\n"
     ]
    }
   ],
   "source": [
    "# Extraction of the top clustering\n",
    "nodes = list(G.nodes())\n",
    "C = top_clustering(D, nodes)\n",
    "print([len(c) for c in C])"
   ]
  },
  {
   "cell_type": "code",
   "execution_count": 25,
   "metadata": {},
   "outputs": [
    {
     "name": "stdout",
     "output_type": "stream",
     "text": [
      "[10, 10, 9, 11]\n",
      "[4, 2, 4, 2, 5, 4, 4, 4, 5, 6]\n",
      "[2, 4, 2, 4, 2, 5, 4, 4, 2, 4, 3, 4]\n"
     ]
    }
   ],
   "source": [
    "# Extraction of the top-3 clusterings\n",
    "C_list = top_clusterings(D, nodes, 3)\n",
    "for C in C_list:\n",
    "    print([len(c) for c in C])"
   ]
  },
  {
   "cell_type": "code",
   "execution_count": null,
   "metadata": {
    "collapsed": true
   },
   "outputs": [],
   "source": []
  }
 ],
 "metadata": {
  "hide_input": false,
  "kernelspec": {
   "display_name": "Python 3",
   "language": "python",
   "name": "python3"
  },
  "language_info": {
   "codemirror_mode": {
    "name": "ipython",
    "version": 3
   },
   "file_extension": ".py",
   "mimetype": "text/x-python",
   "name": "python",
   "nbconvert_exporter": "python",
   "pygments_lexer": "ipython3",
   "version": "3.6.1"
  }
 },
 "nbformat": 4,
 "nbformat_minor": 2
}
