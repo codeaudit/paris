{
 "cells": [
  {
   "cell_type": "markdown",
   "metadata": {},
   "source": [
    "# Experiments on real data"
   ]
  },
  {
   "cell_type": "markdown",
   "metadata": {},
   "source": [
    "### Imports"
   ]
  },
  {
   "cell_type": "code",
   "execution_count": null,
   "metadata": {
    "collapsed": true
   },
   "outputs": [],
   "source": [
    "import time\n",
    "import numpy as np\n",
    "import networkx as nx"
   ]
  },
  {
   "cell_type": "code",
   "execution_count": null,
   "metadata": {
    "collapsed": true
   },
   "outputs": [],
   "source": [
    "from paris import paris\n",
    "from louvain import louvain\n",
    "from spectral import spectral\n",
    "from hierarchy import select_clustering, top_clusterings\n",
    "from real_data import load_dataset\n",
    "from plot_tools import plot_clusterings, plot_running_times"
   ]
  },
  {
   "cell_type": "markdown",
   "metadata": {},
   "source": [
    "### Openstreet"
   ]
  },
  {
   "cell_type": "code",
   "execution_count": null,
   "metadata": {
    "collapsed": true
   },
   "outputs": [],
   "source": [
    "data = \"openstreet\"\n",
    "G, pos, name = load_dataset(data)"
   ]
  },
  {
   "cell_type": "code",
   "execution_count": null,
   "metadata": {},
   "outputs": [],
   "source": [
    "print(nx.info(G))"
   ]
  },
  {
   "cell_type": "code",
   "execution_count": null,
   "metadata": {
    "collapsed": true
   },
   "outputs": [],
   "source": [
    "nodes = list(G.nodes())\n",
    "D = paris(G)\n",
    "C_list = top_clusterings(D, nodes, 2)"
   ]
  },
  {
   "cell_type": "code",
   "execution_count": null,
   "metadata": {},
   "outputs": [],
   "source": [
    "plot_clusterings(G, C_list, pos)"
   ]
  },
  {
   "cell_type": "markdown",
   "metadata": {},
   "source": [
    "### Openflights"
   ]
  },
  {
   "cell_type": "code",
   "execution_count": null,
   "metadata": {
    "collapsed": true
   },
   "outputs": [],
   "source": [
    "data = \"openflights\"\n",
    "G, pos, name = load_dataset(data)"
   ]
  },
  {
   "cell_type": "code",
   "execution_count": null,
   "metadata": {},
   "outputs": [],
   "source": [
    "print(nx.info(G))"
   ]
  },
  {
   "cell_type": "code",
   "execution_count": null,
   "metadata": {
    "collapsed": true
   },
   "outputs": [],
   "source": [
    "nodes = list(G.nodes())\n",
    "D = paris(G)\n",
    "C_list = top_clusterings(D, nodes, 3)"
   ]
  },
  {
   "cell_type": "code",
   "execution_count": null,
   "metadata": {},
   "outputs": [],
   "source": [
    "plot_clusterings(G, C_list, pos)"
   ]
  },
  {
   "cell_type": "markdown",
   "metadata": {},
   "source": [
    "### SchoolsWikipedia"
   ]
  },
  {
   "cell_type": "code",
   "execution_count": null,
   "metadata": {
    "collapsed": true
   },
   "outputs": [],
   "source": [
    "def show_largest_clusters(C, G, name, k = 10, nb_nodes = 10):\n",
    "    index = np.argsort([-len(c) for c in C])\n",
    "    for l in range(min(len(C), k)):\n",
    "        c = C[index[l]]\n",
    "        index_node = np.argsort([-G.degree(u) for u in c])\n",
    "        print(\"#\"+str(l+1))\n",
    "        print(\"Size = \"+str(len(c)))\n",
    "        cluster_list = \"\"\n",
    "        for i in range(min(nb_nodes, len(c))):\n",
    "            u = c[index_node[i]]\n",
    "            cluster_list += name[u]+\", \"\n",
    "        print(cluster_list[:-2]+\"\\n\")"
   ]
  },
  {
   "cell_type": "code",
   "execution_count": null,
   "metadata": {
    "collapsed": true
   },
   "outputs": [],
   "source": [
    "data = \"wikipedia-school\"\n",
    "G, pos, name = load_dataset(data)"
   ]
  },
  {
   "cell_type": "code",
   "execution_count": null,
   "metadata": {},
   "outputs": [],
   "source": [
    "print(nx.info(G))"
   ]
  },
  {
   "cell_type": "code",
   "execution_count": null,
   "metadata": {
    "collapsed": true
   },
   "outputs": [],
   "source": [
    "D = paris(G)\n",
    "nodes = list(G.nodes())\n",
    "C_list = top_clusterings(D, nodes, 6)"
   ]
  },
  {
   "cell_type": "code",
   "execution_count": null,
   "metadata": {},
   "outputs": [],
   "source": [
    "[len(C) for C in C_list]"
   ]
  },
  {
   "cell_type": "code",
   "execution_count": null,
   "metadata": {},
   "outputs": [],
   "source": [
    "# Best clustering (first in the list)\n",
    "show_largest_clusters(C_list[0], G, name)"
   ]
  },
  {
   "cell_type": "code",
   "execution_count": null,
   "metadata": {},
   "outputs": [],
   "source": [
    "# Best clustering (last in the list)\n",
    "show_largest_clusters(C_list[-1], G, name, k = 20)"
   ]
  },
  {
   "cell_type": "code",
   "execution_count": null,
   "metadata": {},
   "outputs": [],
   "source": [
    "# Clustering with 100 clusters\n",
    "n = len(nodes)\n",
    "k = 100\n",
    "C, dist = select_clustering(D, nodes, n - k)\n",
    "show_largest_clusters(C, G, name)"
   ]
  },
  {
   "cell_type": "code",
   "execution_count": null,
   "metadata": {},
   "outputs": [],
   "source": [
    "# Clustering with 500 clusters\n",
    "n = len(nodes)\n",
    "k = 500\n",
    "C, dist = select_clustering(D, nodes, n - k)\n",
    "show_largest_clusters(C, G, name)"
   ]
  },
  {
   "cell_type": "markdown",
   "metadata": {},
   "source": [
    "### Running times"
   ]
  },
  {
   "cell_type": "code",
   "execution_count": null,
   "metadata": {
    "collapsed": true
   },
   "outputs": [],
   "source": [
    "def test_algo(G, algo, nb_samples):\n",
    "    result = []\n",
    "    for l in range(nb_samples):\n",
    "        t0 = time.time()\n",
    "        if algo == \"paris\":\n",
    "            D = paris(G)\n",
    "        elif algo == \"louvain\":\n",
    "            C = louvain(G)\n",
    "        elif algo == \"spectral\":\n",
    "            D = spectral(G)\n",
    "        t1 = time.time()\n",
    "        result.append(t1 - t0)\n",
    "    return result"
   ]
  },
  {
   "cell_type": "code",
   "execution_count": null,
   "metadata": {},
   "outputs": [],
   "source": [
    "def get_running_times(nb_samples = 100):\n",
    "    datasets = [\"openstreet\", \"openflights\", \"wikipedia-school\"]\n",
    "    algos = [\"paris\", \"louvain\", \"spectral\"]\n",
    "\n",
    "    results = [[],[],[]]\n",
    "    for dataset in datasets:\n",
    "        print(\"* \" + dataset)\n",
    "        G, pos, name = load_dataset(dataset)\n",
    "        for i, algo in enumerate(algos):\n",
    "            print(algo)\n",
    "            results[i].append(test_algo(G, algo, nb_samples))\n",
    "    return results"
   ]
  },
  {
   "cell_type": "code",
   "execution_count": null,
   "metadata": {},
   "outputs": [],
   "source": [
    "# For quick test\n",
    "nb_samples = 5\n",
    "\n",
    "results = get_running_times(nb_samples)"
   ]
  },
  {
   "cell_type": "code",
   "execution_count": null,
   "metadata": {},
   "outputs": [],
   "source": [
    "plot_running_times(results)"
   ]
  }
 ],
 "metadata": {
  "hide_input": false,
  "kernelspec": {
   "display_name": "Python 3",
   "language": "python",
   "name": "python3"
  },
  "language_info": {
   "codemirror_mode": {
    "name": "ipython",
    "version": 3
   },
   "file_extension": ".py",
   "mimetype": "text/x-python",
   "name": "python",
   "nbconvert_exporter": "python",
   "pygments_lexer": "ipython3",
   "version": "3.6.1"
  }
 },
 "nbformat": 4,
 "nbformat_minor": 2
}
